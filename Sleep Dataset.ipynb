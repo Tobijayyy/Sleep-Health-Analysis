{
 "cells": [
  {
   "cell_type": "code",
   "execution_count": 1,
   "id": "fd0d8713-d419-427a-99e0-fe4664866396",
   "metadata": {},
   "outputs": [],
   "source": [
    "import pandas as pd\n",
    "import numpy as np"
   ]
  },
  {
   "cell_type": "code",
   "execution_count": 2,
   "id": "f643929e-fe03-4bcc-8a5a-458bc045cf99",
   "metadata": {},
   "outputs": [],
   "source": [
    "df = pd.read_csv('Sleep_health_and_lifestyle_dataset.csv')"
   ]
  },
  {
   "cell_type": "code",
   "execution_count": 3,
   "id": "a625546f-166c-4e11-bbaf-60e30cc7a05f",
   "metadata": {},
   "outputs": [],
   "source": [
    "df = df.drop('Person ID', axis=1)"
   ]
  },
  {
   "cell_type": "code",
   "execution_count": 4,
   "id": "6960b8f7-9b3a-4a66-a2a2-ccae31a90aa9",
   "metadata": {},
   "outputs": [
    {
     "name": "stdout",
     "output_type": "stream",
     "text": [
      "<class 'pandas.core.frame.DataFrame'>\n",
      "RangeIndex: 374 entries, 0 to 373\n",
      "Data columns (total 12 columns):\n",
      " #   Column                   Non-Null Count  Dtype  \n",
      "---  ------                   --------------  -----  \n",
      " 0   Gender                   374 non-null    object \n",
      " 1   Age                      374 non-null    int64  \n",
      " 2   Occupation               374 non-null    object \n",
      " 3   Sleep Duration           374 non-null    float64\n",
      " 4   Quality of Sleep         374 non-null    int64  \n",
      " 5   Physical Activity Level  374 non-null    int64  \n",
      " 6   Stress Level             374 non-null    int64  \n",
      " 7   BMI Category             374 non-null    object \n",
      " 8   Blood Pressure           374 non-null    object \n",
      " 9   Heart Rate               374 non-null    int64  \n",
      " 10  Daily Steps              374 non-null    int64  \n",
      " 11  Sleep Disorder           155 non-null    object \n",
      "dtypes: float64(1), int64(6), object(5)\n",
      "memory usage: 35.2+ KB\n"
     ]
    }
   ],
   "source": [
    "df.info()"
   ]
  },
  {
   "cell_type": "code",
   "execution_count": 5,
   "id": "2d1413c3-60dc-4fc1-8686-906cd679c862",
   "metadata": {},
   "outputs": [
    {
     "data": {
      "text/plain": [
       "{'Accountant',\n",
       " 'Doctor',\n",
       " 'Engineer',\n",
       " 'Lawyer',\n",
       " 'Manager',\n",
       " 'Nurse',\n",
       " 'Sales Representative',\n",
       " 'Salesperson',\n",
       " 'Scientist',\n",
       " 'Software Engineer',\n",
       " 'Teacher'}"
      ]
     },
     "execution_count": 5,
     "metadata": {},
     "output_type": "execute_result"
    }
   ],
   "source": [
    "set(df.Occupation.sort_values())"
   ]
  },
  {
   "cell_type": "code",
   "execution_count": 6,
   "id": "36479b07-ab7a-471e-affc-70835c23127c",
   "metadata": {},
   "outputs": [
    {
     "data": {
      "text/plain": [
       "Gender\n",
       "Male      189\n",
       "Female    185\n",
       "Name: count, dtype: int64"
      ]
     },
     "execution_count": 6,
     "metadata": {},
     "output_type": "execute_result"
    }
   ],
   "source": [
    "df.Gender.value_counts()"
   ]
  },
  {
   "cell_type": "code",
   "execution_count": 7,
   "id": "8034e181-deaa-43dc-b8fd-5e403080509e",
   "metadata": {},
   "outputs": [
    {
     "data": {
      "text/plain": [
       "25"
      ]
     },
     "execution_count": 7,
     "metadata": {},
     "output_type": "execute_result"
    }
   ],
   "source": [
    "df['Blood Pressure'].nunique()"
   ]
  },
  {
   "cell_type": "code",
   "execution_count": 8,
   "id": "9ce76158-cf91-4d52-8e88-9e6811158aea",
   "metadata": {},
   "outputs": [
    {
     "data": {
      "text/plain": [
       "BMI Category\n",
       "Normal           195\n",
       "Overweight       148\n",
       "Normal Weight     21\n",
       "Obese             10\n",
       "Name: count, dtype: int64"
      ]
     },
     "execution_count": 8,
     "metadata": {},
     "output_type": "execute_result"
    }
   ],
   "source": [
    "df['BMI Category'].value_counts()"
   ]
  },
  {
   "cell_type": "code",
   "execution_count": 9,
   "id": "2db219f2-775e-4050-83a6-2104c59ad914",
   "metadata": {},
   "outputs": [
    {
     "data": {
      "text/plain": [
       "Sleep Disorder\n",
       "NaN            219\n",
       "Sleep Apnea     78\n",
       "Insomnia        77\n",
       "Name: count, dtype: int64"
      ]
     },
     "execution_count": 9,
     "metadata": {},
     "output_type": "execute_result"
    }
   ],
   "source": [
    "df['Sleep Disorder'].value_counts(dropna=False)"
   ]
  },
  {
   "cell_type": "code",
   "execution_count": 10,
   "id": "f14a1069-636a-4741-87a2-6e3d736614dd",
   "metadata": {},
   "outputs": [],
   "source": [
    "df['Sleep Disorder'] = df['Sleep Disorder'].fillna('Normal')"
   ]
  },
  {
   "cell_type": "code",
   "execution_count": 11,
   "id": "71538693-849a-4617-b0c6-657249333e66",
   "metadata": {},
   "outputs": [],
   "source": [
    "df.columns = [col.lower().replace(' ', '_') for col in df.columns]"
   ]
  },
  {
   "cell_type": "code",
   "execution_count": 12,
   "id": "26b17161-b5bc-4f93-8f43-52df92a7e1f8",
   "metadata": {},
   "outputs": [
    {
     "data": {
      "text/plain": [
       "Index(['gender', 'age', 'occupation', 'sleep_duration', 'quality_of_sleep',\n",
       "       'physical_activity_level', 'stress_level', 'bmi_category',\n",
       "       'blood_pressure', 'heart_rate', 'daily_steps', 'sleep_disorder'],\n",
       "      dtype='object')"
      ]
     },
     "execution_count": 12,
     "metadata": {},
     "output_type": "execute_result"
    }
   ],
   "source": [
    "df.columns"
   ]
  },
  {
   "cell_type": "code",
   "execution_count": 13,
   "id": "1a4b76dc-257b-4e76-ba16-bc8a63dddc5e",
   "metadata": {},
   "outputs": [],
   "source": [
    "df[['systolic', 'diastolic']] = df.blood_pressure.str.split('/', expand=True, n=1)"
   ]
  },
  {
   "cell_type": "code",
   "execution_count": 14,
   "id": "210f9491-6ee6-412a-997d-ebdd0791347d",
   "metadata": {},
   "outputs": [],
   "source": [
    "y = df.sleep_disorder\n",
    "df = df.drop(['sleep_disorder', 'blood_pressure'], axis=1)\n",
    "df['sleep_disorder'] = y"
   ]
  },
  {
   "cell_type": "code",
   "execution_count": 15,
   "id": "c4d1be5c-d6b2-47f6-8a6c-6d1aa6d64bbc",
   "metadata": {},
   "outputs": [
    {
     "data": {
      "text/html": [
       "<div>\n",
       "<style scoped>\n",
       "    .dataframe tbody tr th:only-of-type {\n",
       "        vertical-align: middle;\n",
       "    }\n",
       "\n",
       "    .dataframe tbody tr th {\n",
       "        vertical-align: top;\n",
       "    }\n",
       "\n",
       "    .dataframe thead th {\n",
       "        text-align: right;\n",
       "    }\n",
       "</style>\n",
       "<table border=\"1\" class=\"dataframe\">\n",
       "  <thead>\n",
       "    <tr style=\"text-align: right;\">\n",
       "      <th></th>\n",
       "      <th>gender</th>\n",
       "      <th>age</th>\n",
       "      <th>occupation</th>\n",
       "      <th>sleep_duration</th>\n",
       "      <th>quality_of_sleep</th>\n",
       "      <th>physical_activity_level</th>\n",
       "      <th>stress_level</th>\n",
       "      <th>bmi_category</th>\n",
       "      <th>heart_rate</th>\n",
       "      <th>daily_steps</th>\n",
       "      <th>systolic</th>\n",
       "      <th>diastolic</th>\n",
       "      <th>sleep_disorder</th>\n",
       "    </tr>\n",
       "  </thead>\n",
       "  <tbody>\n",
       "    <tr>\n",
       "      <th>0</th>\n",
       "      <td>Male</td>\n",
       "      <td>27</td>\n",
       "      <td>Software Engineer</td>\n",
       "      <td>6.1</td>\n",
       "      <td>6</td>\n",
       "      <td>42</td>\n",
       "      <td>6</td>\n",
       "      <td>Overweight</td>\n",
       "      <td>77</td>\n",
       "      <td>4200</td>\n",
       "      <td>126</td>\n",
       "      <td>83</td>\n",
       "      <td>Normal</td>\n",
       "    </tr>\n",
       "    <tr>\n",
       "      <th>1</th>\n",
       "      <td>Male</td>\n",
       "      <td>28</td>\n",
       "      <td>Doctor</td>\n",
       "      <td>6.2</td>\n",
       "      <td>6</td>\n",
       "      <td>60</td>\n",
       "      <td>8</td>\n",
       "      <td>Normal</td>\n",
       "      <td>75</td>\n",
       "      <td>10000</td>\n",
       "      <td>125</td>\n",
       "      <td>80</td>\n",
       "      <td>Normal</td>\n",
       "    </tr>\n",
       "    <tr>\n",
       "      <th>2</th>\n",
       "      <td>Male</td>\n",
       "      <td>28</td>\n",
       "      <td>Doctor</td>\n",
       "      <td>6.2</td>\n",
       "      <td>6</td>\n",
       "      <td>60</td>\n",
       "      <td>8</td>\n",
       "      <td>Normal</td>\n",
       "      <td>75</td>\n",
       "      <td>10000</td>\n",
       "      <td>125</td>\n",
       "      <td>80</td>\n",
       "      <td>Normal</td>\n",
       "    </tr>\n",
       "    <tr>\n",
       "      <th>3</th>\n",
       "      <td>Male</td>\n",
       "      <td>28</td>\n",
       "      <td>Sales Representative</td>\n",
       "      <td>5.9</td>\n",
       "      <td>4</td>\n",
       "      <td>30</td>\n",
       "      <td>8</td>\n",
       "      <td>Obese</td>\n",
       "      <td>85</td>\n",
       "      <td>3000</td>\n",
       "      <td>140</td>\n",
       "      <td>90</td>\n",
       "      <td>Sleep Apnea</td>\n",
       "    </tr>\n",
       "    <tr>\n",
       "      <th>4</th>\n",
       "      <td>Male</td>\n",
       "      <td>28</td>\n",
       "      <td>Sales Representative</td>\n",
       "      <td>5.9</td>\n",
       "      <td>4</td>\n",
       "      <td>30</td>\n",
       "      <td>8</td>\n",
       "      <td>Obese</td>\n",
       "      <td>85</td>\n",
       "      <td>3000</td>\n",
       "      <td>140</td>\n",
       "      <td>90</td>\n",
       "      <td>Sleep Apnea</td>\n",
       "    </tr>\n",
       "    <tr>\n",
       "      <th>...</th>\n",
       "      <td>...</td>\n",
       "      <td>...</td>\n",
       "      <td>...</td>\n",
       "      <td>...</td>\n",
       "      <td>...</td>\n",
       "      <td>...</td>\n",
       "      <td>...</td>\n",
       "      <td>...</td>\n",
       "      <td>...</td>\n",
       "      <td>...</td>\n",
       "      <td>...</td>\n",
       "      <td>...</td>\n",
       "      <td>...</td>\n",
       "    </tr>\n",
       "    <tr>\n",
       "      <th>369</th>\n",
       "      <td>Female</td>\n",
       "      <td>59</td>\n",
       "      <td>Nurse</td>\n",
       "      <td>8.1</td>\n",
       "      <td>9</td>\n",
       "      <td>75</td>\n",
       "      <td>3</td>\n",
       "      <td>Overweight</td>\n",
       "      <td>68</td>\n",
       "      <td>7000</td>\n",
       "      <td>140</td>\n",
       "      <td>95</td>\n",
       "      <td>Sleep Apnea</td>\n",
       "    </tr>\n",
       "    <tr>\n",
       "      <th>370</th>\n",
       "      <td>Female</td>\n",
       "      <td>59</td>\n",
       "      <td>Nurse</td>\n",
       "      <td>8.0</td>\n",
       "      <td>9</td>\n",
       "      <td>75</td>\n",
       "      <td>3</td>\n",
       "      <td>Overweight</td>\n",
       "      <td>68</td>\n",
       "      <td>7000</td>\n",
       "      <td>140</td>\n",
       "      <td>95</td>\n",
       "      <td>Sleep Apnea</td>\n",
       "    </tr>\n",
       "    <tr>\n",
       "      <th>371</th>\n",
       "      <td>Female</td>\n",
       "      <td>59</td>\n",
       "      <td>Nurse</td>\n",
       "      <td>8.1</td>\n",
       "      <td>9</td>\n",
       "      <td>75</td>\n",
       "      <td>3</td>\n",
       "      <td>Overweight</td>\n",
       "      <td>68</td>\n",
       "      <td>7000</td>\n",
       "      <td>140</td>\n",
       "      <td>95</td>\n",
       "      <td>Sleep Apnea</td>\n",
       "    </tr>\n",
       "    <tr>\n",
       "      <th>372</th>\n",
       "      <td>Female</td>\n",
       "      <td>59</td>\n",
       "      <td>Nurse</td>\n",
       "      <td>8.1</td>\n",
       "      <td>9</td>\n",
       "      <td>75</td>\n",
       "      <td>3</td>\n",
       "      <td>Overweight</td>\n",
       "      <td>68</td>\n",
       "      <td>7000</td>\n",
       "      <td>140</td>\n",
       "      <td>95</td>\n",
       "      <td>Sleep Apnea</td>\n",
       "    </tr>\n",
       "    <tr>\n",
       "      <th>373</th>\n",
       "      <td>Female</td>\n",
       "      <td>59</td>\n",
       "      <td>Nurse</td>\n",
       "      <td>8.1</td>\n",
       "      <td>9</td>\n",
       "      <td>75</td>\n",
       "      <td>3</td>\n",
       "      <td>Overweight</td>\n",
       "      <td>68</td>\n",
       "      <td>7000</td>\n",
       "      <td>140</td>\n",
       "      <td>95</td>\n",
       "      <td>Sleep Apnea</td>\n",
       "    </tr>\n",
       "  </tbody>\n",
       "</table>\n",
       "<p>374 rows × 13 columns</p>\n",
       "</div>"
      ],
      "text/plain": [
       "     gender  age            occupation  sleep_duration  quality_of_sleep  \\\n",
       "0      Male   27     Software Engineer             6.1                 6   \n",
       "1      Male   28                Doctor             6.2                 6   \n",
       "2      Male   28                Doctor             6.2                 6   \n",
       "3      Male   28  Sales Representative             5.9                 4   \n",
       "4      Male   28  Sales Representative             5.9                 4   \n",
       "..      ...  ...                   ...             ...               ...   \n",
       "369  Female   59                 Nurse             8.1                 9   \n",
       "370  Female   59                 Nurse             8.0                 9   \n",
       "371  Female   59                 Nurse             8.1                 9   \n",
       "372  Female   59                 Nurse             8.1                 9   \n",
       "373  Female   59                 Nurse             8.1                 9   \n",
       "\n",
       "     physical_activity_level  stress_level bmi_category  heart_rate  \\\n",
       "0                         42             6   Overweight          77   \n",
       "1                         60             8       Normal          75   \n",
       "2                         60             8       Normal          75   \n",
       "3                         30             8        Obese          85   \n",
       "4                         30             8        Obese          85   \n",
       "..                       ...           ...          ...         ...   \n",
       "369                       75             3   Overweight          68   \n",
       "370                       75             3   Overweight          68   \n",
       "371                       75             3   Overweight          68   \n",
       "372                       75             3   Overweight          68   \n",
       "373                       75             3   Overweight          68   \n",
       "\n",
       "     daily_steps systolic diastolic sleep_disorder  \n",
       "0           4200      126        83         Normal  \n",
       "1          10000      125        80         Normal  \n",
       "2          10000      125        80         Normal  \n",
       "3           3000      140        90    Sleep Apnea  \n",
       "4           3000      140        90    Sleep Apnea  \n",
       "..           ...      ...       ...            ...  \n",
       "369         7000      140        95    Sleep Apnea  \n",
       "370         7000      140        95    Sleep Apnea  \n",
       "371         7000      140        95    Sleep Apnea  \n",
       "372         7000      140        95    Sleep Apnea  \n",
       "373         7000      140        95    Sleep Apnea  \n",
       "\n",
       "[374 rows x 13 columns]"
      ]
     },
     "execution_count": 15,
     "metadata": {},
     "output_type": "execute_result"
    }
   ],
   "source": [
    "df"
   ]
  },
  {
   "cell_type": "code",
   "execution_count": 16,
   "id": "1e0ef89e-7b67-44a8-84da-4c68021f7bfb",
   "metadata": {},
   "outputs": [],
   "source": [
    "def conv_dtypes(df, *cols):\n",
    "    for col in cols:\n",
    "        df[col] = df[col].astype('category').cat.codes\n",
    "        df[['systolic', 'diastolic']] = df[['systolic', 'diastolic']].astype(int)\n",
    "    return df"
   ]
  },
  {
   "cell_type": "code",
   "execution_count": 17,
   "id": "535ed575-5bab-4410-b1ef-050f4dc0c325",
   "metadata": {},
   "outputs": [
    {
     "data": {
      "text/plain": [
       "Index(['gender', 'occupation', 'bmi_category', 'systolic', 'diastolic',\n",
       "       'sleep_disorder'],\n",
       "      dtype='object')"
      ]
     },
     "execution_count": 17,
     "metadata": {},
     "output_type": "execute_result"
    }
   ],
   "source": [
    "df.select_dtypes(exclude='number').columns"
   ]
  },
  {
   "cell_type": "code",
   "execution_count": 18,
   "id": "f1ed4c64-5831-4e56-82a3-ff936ca744d2",
   "metadata": {},
   "outputs": [],
   "source": [
    "cols = ['gender', 'occupation', 'bmi_category', 'sleep_disorder']"
   ]
  },
  {
   "cell_type": "code",
   "execution_count": 19,
   "id": "860d2cfb-c930-46e6-9262-06d8f5eea5db",
   "metadata": {},
   "outputs": [],
   "source": [
    "df = conv_dtypes(df, *cols)"
   ]
  },
  {
   "cell_type": "code",
   "execution_count": 20,
   "id": "4ae7dbc7-a54e-4d38-8789-3dbf56ab6857",
   "metadata": {},
   "outputs": [
    {
     "data": {
      "text/html": [
       "<div>\n",
       "<style scoped>\n",
       "    .dataframe tbody tr th:only-of-type {\n",
       "        vertical-align: middle;\n",
       "    }\n",
       "\n",
       "    .dataframe tbody tr th {\n",
       "        vertical-align: top;\n",
       "    }\n",
       "\n",
       "    .dataframe thead th {\n",
       "        text-align: right;\n",
       "    }\n",
       "</style>\n",
       "<table border=\"1\" class=\"dataframe\">\n",
       "  <thead>\n",
       "    <tr style=\"text-align: right;\">\n",
       "      <th></th>\n",
       "      <th>gender</th>\n",
       "      <th>age</th>\n",
       "      <th>occupation</th>\n",
       "      <th>sleep_duration</th>\n",
       "      <th>quality_of_sleep</th>\n",
       "      <th>physical_activity_level</th>\n",
       "      <th>stress_level</th>\n",
       "      <th>bmi_category</th>\n",
       "      <th>heart_rate</th>\n",
       "      <th>daily_steps</th>\n",
       "      <th>systolic</th>\n",
       "      <th>diastolic</th>\n",
       "      <th>sleep_disorder</th>\n",
       "    </tr>\n",
       "  </thead>\n",
       "  <tbody>\n",
       "    <tr>\n",
       "      <th>0</th>\n",
       "      <td>1</td>\n",
       "      <td>27</td>\n",
       "      <td>9</td>\n",
       "      <td>6.1</td>\n",
       "      <td>6</td>\n",
       "      <td>42</td>\n",
       "      <td>6</td>\n",
       "      <td>3</td>\n",
       "      <td>77</td>\n",
       "      <td>4200</td>\n",
       "      <td>126</td>\n",
       "      <td>83</td>\n",
       "      <td>1</td>\n",
       "    </tr>\n",
       "    <tr>\n",
       "      <th>1</th>\n",
       "      <td>1</td>\n",
       "      <td>28</td>\n",
       "      <td>1</td>\n",
       "      <td>6.2</td>\n",
       "      <td>6</td>\n",
       "      <td>60</td>\n",
       "      <td>8</td>\n",
       "      <td>0</td>\n",
       "      <td>75</td>\n",
       "      <td>10000</td>\n",
       "      <td>125</td>\n",
       "      <td>80</td>\n",
       "      <td>1</td>\n",
       "    </tr>\n",
       "    <tr>\n",
       "      <th>2</th>\n",
       "      <td>1</td>\n",
       "      <td>28</td>\n",
       "      <td>1</td>\n",
       "      <td>6.2</td>\n",
       "      <td>6</td>\n",
       "      <td>60</td>\n",
       "      <td>8</td>\n",
       "      <td>0</td>\n",
       "      <td>75</td>\n",
       "      <td>10000</td>\n",
       "      <td>125</td>\n",
       "      <td>80</td>\n",
       "      <td>1</td>\n",
       "    </tr>\n",
       "    <tr>\n",
       "      <th>3</th>\n",
       "      <td>1</td>\n",
       "      <td>28</td>\n",
       "      <td>6</td>\n",
       "      <td>5.9</td>\n",
       "      <td>4</td>\n",
       "      <td>30</td>\n",
       "      <td>8</td>\n",
       "      <td>2</td>\n",
       "      <td>85</td>\n",
       "      <td>3000</td>\n",
       "      <td>140</td>\n",
       "      <td>90</td>\n",
       "      <td>2</td>\n",
       "    </tr>\n",
       "    <tr>\n",
       "      <th>4</th>\n",
       "      <td>1</td>\n",
       "      <td>28</td>\n",
       "      <td>6</td>\n",
       "      <td>5.9</td>\n",
       "      <td>4</td>\n",
       "      <td>30</td>\n",
       "      <td>8</td>\n",
       "      <td>2</td>\n",
       "      <td>85</td>\n",
       "      <td>3000</td>\n",
       "      <td>140</td>\n",
       "      <td>90</td>\n",
       "      <td>2</td>\n",
       "    </tr>\n",
       "    <tr>\n",
       "      <th>...</th>\n",
       "      <td>...</td>\n",
       "      <td>...</td>\n",
       "      <td>...</td>\n",
       "      <td>...</td>\n",
       "      <td>...</td>\n",
       "      <td>...</td>\n",
       "      <td>...</td>\n",
       "      <td>...</td>\n",
       "      <td>...</td>\n",
       "      <td>...</td>\n",
       "      <td>...</td>\n",
       "      <td>...</td>\n",
       "      <td>...</td>\n",
       "    </tr>\n",
       "    <tr>\n",
       "      <th>369</th>\n",
       "      <td>0</td>\n",
       "      <td>59</td>\n",
       "      <td>5</td>\n",
       "      <td>8.1</td>\n",
       "      <td>9</td>\n",
       "      <td>75</td>\n",
       "      <td>3</td>\n",
       "      <td>3</td>\n",
       "      <td>68</td>\n",
       "      <td>7000</td>\n",
       "      <td>140</td>\n",
       "      <td>95</td>\n",
       "      <td>2</td>\n",
       "    </tr>\n",
       "    <tr>\n",
       "      <th>370</th>\n",
       "      <td>0</td>\n",
       "      <td>59</td>\n",
       "      <td>5</td>\n",
       "      <td>8.0</td>\n",
       "      <td>9</td>\n",
       "      <td>75</td>\n",
       "      <td>3</td>\n",
       "      <td>3</td>\n",
       "      <td>68</td>\n",
       "      <td>7000</td>\n",
       "      <td>140</td>\n",
       "      <td>95</td>\n",
       "      <td>2</td>\n",
       "    </tr>\n",
       "    <tr>\n",
       "      <th>371</th>\n",
       "      <td>0</td>\n",
       "      <td>59</td>\n",
       "      <td>5</td>\n",
       "      <td>8.1</td>\n",
       "      <td>9</td>\n",
       "      <td>75</td>\n",
       "      <td>3</td>\n",
       "      <td>3</td>\n",
       "      <td>68</td>\n",
       "      <td>7000</td>\n",
       "      <td>140</td>\n",
       "      <td>95</td>\n",
       "      <td>2</td>\n",
       "    </tr>\n",
       "    <tr>\n",
       "      <th>372</th>\n",
       "      <td>0</td>\n",
       "      <td>59</td>\n",
       "      <td>5</td>\n",
       "      <td>8.1</td>\n",
       "      <td>9</td>\n",
       "      <td>75</td>\n",
       "      <td>3</td>\n",
       "      <td>3</td>\n",
       "      <td>68</td>\n",
       "      <td>7000</td>\n",
       "      <td>140</td>\n",
       "      <td>95</td>\n",
       "      <td>2</td>\n",
       "    </tr>\n",
       "    <tr>\n",
       "      <th>373</th>\n",
       "      <td>0</td>\n",
       "      <td>59</td>\n",
       "      <td>5</td>\n",
       "      <td>8.1</td>\n",
       "      <td>9</td>\n",
       "      <td>75</td>\n",
       "      <td>3</td>\n",
       "      <td>3</td>\n",
       "      <td>68</td>\n",
       "      <td>7000</td>\n",
       "      <td>140</td>\n",
       "      <td>95</td>\n",
       "      <td>2</td>\n",
       "    </tr>\n",
       "  </tbody>\n",
       "</table>\n",
       "<p>374 rows × 13 columns</p>\n",
       "</div>"
      ],
      "text/plain": [
       "     gender  age  occupation  sleep_duration  quality_of_sleep  \\\n",
       "0         1   27           9             6.1                 6   \n",
       "1         1   28           1             6.2                 6   \n",
       "2         1   28           1             6.2                 6   \n",
       "3         1   28           6             5.9                 4   \n",
       "4         1   28           6             5.9                 4   \n",
       "..      ...  ...         ...             ...               ...   \n",
       "369       0   59           5             8.1                 9   \n",
       "370       0   59           5             8.0                 9   \n",
       "371       0   59           5             8.1                 9   \n",
       "372       0   59           5             8.1                 9   \n",
       "373       0   59           5             8.1                 9   \n",
       "\n",
       "     physical_activity_level  stress_level  bmi_category  heart_rate  \\\n",
       "0                         42             6             3          77   \n",
       "1                         60             8             0          75   \n",
       "2                         60             8             0          75   \n",
       "3                         30             8             2          85   \n",
       "4                         30             8             2          85   \n",
       "..                       ...           ...           ...         ...   \n",
       "369                       75             3             3          68   \n",
       "370                       75             3             3          68   \n",
       "371                       75             3             3          68   \n",
       "372                       75             3             3          68   \n",
       "373                       75             3             3          68   \n",
       "\n",
       "     daily_steps  systolic  diastolic  sleep_disorder  \n",
       "0           4200       126         83               1  \n",
       "1          10000       125         80               1  \n",
       "2          10000       125         80               1  \n",
       "3           3000       140         90               2  \n",
       "4           3000       140         90               2  \n",
       "..           ...       ...        ...             ...  \n",
       "369         7000       140         95               2  \n",
       "370         7000       140         95               2  \n",
       "371         7000       140         95               2  \n",
       "372         7000       140         95               2  \n",
       "373         7000       140         95               2  \n",
       "\n",
       "[374 rows x 13 columns]"
      ]
     },
     "execution_count": 20,
     "metadata": {},
     "output_type": "execute_result"
    }
   ],
   "source": [
    "df"
   ]
  },
  {
   "cell_type": "code",
   "execution_count": 21,
   "id": "707815f4-1fdc-419e-a8ee-f3925b5704e4",
   "metadata": {},
   "outputs": [
    {
     "data": {
      "text/plain": [
       "gender                        int8\n",
       "age                          int64\n",
       "occupation                    int8\n",
       "sleep_duration             float64\n",
       "quality_of_sleep             int64\n",
       "physical_activity_level      int64\n",
       "stress_level                 int64\n",
       "bmi_category                  int8\n",
       "heart_rate                   int64\n",
       "daily_steps                  int64\n",
       "systolic                     int32\n",
       "diastolic                    int32\n",
       "sleep_disorder                int8\n",
       "dtype: object"
      ]
     },
     "execution_count": 21,
     "metadata": {},
     "output_type": "execute_result"
    }
   ],
   "source": [
    "df.dtypes"
   ]
  },
  {
   "cell_type": "code",
   "execution_count": 22,
   "id": "06a75a83-b97f-4f81-8474-e9797fcc91d9",
   "metadata": {},
   "outputs": [
    {
     "data": {
      "text/plain": [
       "sleep_disorder\n",
       "1    0.585561\n",
       "2    0.208556\n",
       "0    0.205882\n",
       "Name: count, dtype: float64"
      ]
     },
     "execution_count": 22,
     "metadata": {},
     "output_type": "execute_result"
    }
   ],
   "source": [
    "df.sleep_disorder.value_counts()/df.shape[0]"
   ]
  },
  {
   "cell_type": "code",
   "execution_count": 23,
   "id": "9e50ae41-0c71-4894-be94-0a746cbbe398",
   "metadata": {},
   "outputs": [],
   "source": [
    "from sklearn.model_selection import train_test_split"
   ]
  },
  {
   "cell_type": "code",
   "execution_count": 24,
   "id": "862d5bf2-9f44-468b-a682-fade70f2faff",
   "metadata": {},
   "outputs": [],
   "source": [
    "x = df.iloc[:, :-1]\n",
    "y = df.sleep_disorder"
   ]
  },
  {
   "cell_type": "code",
   "execution_count": 25,
   "id": "a251158d-0db1-4f26-973b-632a433dfe75",
   "metadata": {},
   "outputs": [],
   "source": [
    "x_train, x_test, y_train, y_test = train_test_split(x, y, test_size=0.2, random_state=0)"
   ]
  },
  {
   "cell_type": "code",
   "execution_count": 26,
   "id": "56306d26-fe1d-4a93-8fec-7ee72497db36",
   "metadata": {},
   "outputs": [],
   "source": [
    "from sklearn.preprocessing import StandardScaler"
   ]
  },
  {
   "cell_type": "code",
   "execution_count": 27,
   "id": "c7dfbf21-a14c-4bf3-89c7-992daef3db22",
   "metadata": {},
   "outputs": [],
   "source": [
    "from sklearn.pipeline import make_pipeline"
   ]
  },
  {
   "cell_type": "code",
   "execution_count": 28,
   "id": "7114fe09-167b-4f2e-a47d-e803e4a719bb",
   "metadata": {},
   "outputs": [],
   "source": [
    "from imblearn.over_sampling import SMOTE"
   ]
  },
  {
   "cell_type": "code",
   "execution_count": 29,
   "id": "0c40e29d-1132-450b-b745-1d4aa16368a1",
   "metadata": {},
   "outputs": [],
   "source": [
    "smote = SMOTE(sampling_strategy='auto')\n",
    "x_train_rs, y_train_rs = smote.fit_resample(x_train, y_train)"
   ]
  },
  {
   "cell_type": "code",
   "execution_count": 30,
   "id": "90bbd10d-97b5-4d8e-be60-19cf7c5614eb",
   "metadata": {},
   "outputs": [],
   "source": [
    "from sklearn.ensemble import RandomForestClassifier"
   ]
  },
  {
   "cell_type": "code",
   "execution_count": 31,
   "id": "04af91bd-614b-4adf-9050-bfeb53e9b834",
   "metadata": {},
   "outputs": [],
   "source": [
    "rfc = make_pipeline(StandardScaler(), RandomForestClassifier())"
   ]
  },
  {
   "cell_type": "code",
   "execution_count": 32,
   "id": "4409a186-dd0b-46be-a0ee-d7f2ca412cf0",
   "metadata": {},
   "outputs": [
    {
     "data": {
      "text/html": [
       "<style>#sk-container-id-1 {color: black;}#sk-container-id-1 pre{padding: 0;}#sk-container-id-1 div.sk-toggleable {background-color: white;}#sk-container-id-1 label.sk-toggleable__label {cursor: pointer;display: block;width: 100%;margin-bottom: 0;padding: 0.3em;box-sizing: border-box;text-align: center;}#sk-container-id-1 label.sk-toggleable__label-arrow:before {content: \"▸\";float: left;margin-right: 0.25em;color: #696969;}#sk-container-id-1 label.sk-toggleable__label-arrow:hover:before {color: black;}#sk-container-id-1 div.sk-estimator:hover label.sk-toggleable__label-arrow:before {color: black;}#sk-container-id-1 div.sk-toggleable__content {max-height: 0;max-width: 0;overflow: hidden;text-align: left;background-color: #f0f8ff;}#sk-container-id-1 div.sk-toggleable__content pre {margin: 0.2em;color: black;border-radius: 0.25em;background-color: #f0f8ff;}#sk-container-id-1 input.sk-toggleable__control:checked~div.sk-toggleable__content {max-height: 200px;max-width: 100%;overflow: auto;}#sk-container-id-1 input.sk-toggleable__control:checked~label.sk-toggleable__label-arrow:before {content: \"▾\";}#sk-container-id-1 div.sk-estimator input.sk-toggleable__control:checked~label.sk-toggleable__label {background-color: #d4ebff;}#sk-container-id-1 div.sk-label input.sk-toggleable__control:checked~label.sk-toggleable__label {background-color: #d4ebff;}#sk-container-id-1 input.sk-hidden--visually {border: 0;clip: rect(1px 1px 1px 1px);clip: rect(1px, 1px, 1px, 1px);height: 1px;margin: -1px;overflow: hidden;padding: 0;position: absolute;width: 1px;}#sk-container-id-1 div.sk-estimator {font-family: monospace;background-color: #f0f8ff;border: 1px dotted black;border-radius: 0.25em;box-sizing: border-box;margin-bottom: 0.5em;}#sk-container-id-1 div.sk-estimator:hover {background-color: #d4ebff;}#sk-container-id-1 div.sk-parallel-item::after {content: \"\";width: 100%;border-bottom: 1px solid gray;flex-grow: 1;}#sk-container-id-1 div.sk-label:hover label.sk-toggleable__label {background-color: #d4ebff;}#sk-container-id-1 div.sk-serial::before {content: \"\";position: absolute;border-left: 1px solid gray;box-sizing: border-box;top: 0;bottom: 0;left: 50%;z-index: 0;}#sk-container-id-1 div.sk-serial {display: flex;flex-direction: column;align-items: center;background-color: white;padding-right: 0.2em;padding-left: 0.2em;position: relative;}#sk-container-id-1 div.sk-item {position: relative;z-index: 1;}#sk-container-id-1 div.sk-parallel {display: flex;align-items: stretch;justify-content: center;background-color: white;position: relative;}#sk-container-id-1 div.sk-item::before, #sk-container-id-1 div.sk-parallel-item::before {content: \"\";position: absolute;border-left: 1px solid gray;box-sizing: border-box;top: 0;bottom: 0;left: 50%;z-index: -1;}#sk-container-id-1 div.sk-parallel-item {display: flex;flex-direction: column;z-index: 1;position: relative;background-color: white;}#sk-container-id-1 div.sk-parallel-item:first-child::after {align-self: flex-end;width: 50%;}#sk-container-id-1 div.sk-parallel-item:last-child::after {align-self: flex-start;width: 50%;}#sk-container-id-1 div.sk-parallel-item:only-child::after {width: 0;}#sk-container-id-1 div.sk-dashed-wrapped {border: 1px dashed gray;margin: 0 0.4em 0.5em 0.4em;box-sizing: border-box;padding-bottom: 0.4em;background-color: white;}#sk-container-id-1 div.sk-label label {font-family: monospace;font-weight: bold;display: inline-block;line-height: 1.2em;}#sk-container-id-1 div.sk-label-container {text-align: center;}#sk-container-id-1 div.sk-container {/* jupyter's `normalize.less` sets `[hidden] { display: none; }` but bootstrap.min.css set `[hidden] { display: none !important; }` so we also need the `!important` here to be able to override the default hidden behavior on the sphinx rendered scikit-learn.org. See: https://github.com/scikit-learn/scikit-learn/issues/21755 */display: inline-block !important;position: relative;}#sk-container-id-1 div.sk-text-repr-fallback {display: none;}</style><div id=\"sk-container-id-1\" class=\"sk-top-container\"><div class=\"sk-text-repr-fallback\"><pre>Pipeline(steps=[(&#x27;standardscaler&#x27;, StandardScaler()),\n",
       "                (&#x27;randomforestclassifier&#x27;, RandomForestClassifier())])</pre><b>In a Jupyter environment, please rerun this cell to show the HTML representation or trust the notebook. <br />On GitHub, the HTML representation is unable to render, please try loading this page with nbviewer.org.</b></div><div class=\"sk-container\" hidden><div class=\"sk-item sk-dashed-wrapped\"><div class=\"sk-label-container\"><div class=\"sk-label sk-toggleable\"><input class=\"sk-toggleable__control sk-hidden--visually\" id=\"sk-estimator-id-1\" type=\"checkbox\" ><label for=\"sk-estimator-id-1\" class=\"sk-toggleable__label sk-toggleable__label-arrow\">Pipeline</label><div class=\"sk-toggleable__content\"><pre>Pipeline(steps=[(&#x27;standardscaler&#x27;, StandardScaler()),\n",
       "                (&#x27;randomforestclassifier&#x27;, RandomForestClassifier())])</pre></div></div></div><div class=\"sk-serial\"><div class=\"sk-item\"><div class=\"sk-estimator sk-toggleable\"><input class=\"sk-toggleable__control sk-hidden--visually\" id=\"sk-estimator-id-2\" type=\"checkbox\" ><label for=\"sk-estimator-id-2\" class=\"sk-toggleable__label sk-toggleable__label-arrow\">StandardScaler</label><div class=\"sk-toggleable__content\"><pre>StandardScaler()</pre></div></div></div><div class=\"sk-item\"><div class=\"sk-estimator sk-toggleable\"><input class=\"sk-toggleable__control sk-hidden--visually\" id=\"sk-estimator-id-3\" type=\"checkbox\" ><label for=\"sk-estimator-id-3\" class=\"sk-toggleable__label sk-toggleable__label-arrow\">RandomForestClassifier</label><div class=\"sk-toggleable__content\"><pre>RandomForestClassifier()</pre></div></div></div></div></div></div></div>"
      ],
      "text/plain": [
       "Pipeline(steps=[('standardscaler', StandardScaler()),\n",
       "                ('randomforestclassifier', RandomForestClassifier())])"
      ]
     },
     "execution_count": 32,
     "metadata": {},
     "output_type": "execute_result"
    }
   ],
   "source": [
    "rfc.fit(x_train_rs, y_train_rs)"
   ]
  },
  {
   "cell_type": "code",
   "execution_count": 33,
   "id": "de04adfd-3217-45c5-922e-9a914481b439",
   "metadata": {},
   "outputs": [],
   "source": [
    "y_pred = rfc.predict(x_test)"
   ]
  },
  {
   "cell_type": "code",
   "execution_count": 34,
   "id": "f4a3b1b9-e867-454e-8afe-6a259a756c05",
   "metadata": {},
   "outputs": [],
   "source": [
    "from sklearn.metrics import accuracy_score, precision_score, confusion_matrix"
   ]
  },
  {
   "cell_type": "code",
   "execution_count": 35,
   "id": "a81550f9-aa87-4555-8cd9-66f335c52470",
   "metadata": {},
   "outputs": [
    {
     "data": {
      "text/plain": [
       "0.9066666666666666"
      ]
     },
     "execution_count": 35,
     "metadata": {},
     "output_type": "execute_result"
    }
   ],
   "source": [
    "accuracy_score(y_test, y_pred)"
   ]
  },
  {
   "cell_type": "code",
   "execution_count": 36,
   "id": "86f91edd-b0e6-48ea-8b82-926e90b0a6b5",
   "metadata": {},
   "outputs": [
    {
     "data": {
      "text/plain": [
       "0.9055641688199827"
      ]
     },
     "execution_count": 36,
     "metadata": {},
     "output_type": "execute_result"
    }
   ],
   "source": [
    "precision_score(y_test, y_pred, average='weighted')"
   ]
  },
  {
   "cell_type": "code",
   "execution_count": 37,
   "id": "a4901852-f4ac-4112-8bc0-1138a299690d",
   "metadata": {},
   "outputs": [
    {
     "data": {
      "text/plain": [
       "array([[16,  2,  2],\n",
       "       [ 1, 40,  0],\n",
       "       [ 1,  1, 12]], dtype=int64)"
      ]
     },
     "execution_count": 37,
     "metadata": {},
     "output_type": "execute_result"
    }
   ],
   "source": [
    "confusion_matrix(y_test, y_pred)"
   ]
  },
  {
   "cell_type": "code",
   "execution_count": 38,
   "id": "07aa5761-ad0b-4b07-bfee-46fecac5c1c2",
   "metadata": {},
   "outputs": [
    {
     "data": {
      "text/html": [
       "<div>\n",
       "<style scoped>\n",
       "    .dataframe tbody tr th:only-of-type {\n",
       "        vertical-align: middle;\n",
       "    }\n",
       "\n",
       "    .dataframe tbody tr th {\n",
       "        vertical-align: top;\n",
       "    }\n",
       "\n",
       "    .dataframe thead th {\n",
       "        text-align: right;\n",
       "    }\n",
       "</style>\n",
       "<table border=\"1\" class=\"dataframe\">\n",
       "  <thead>\n",
       "    <tr style=\"text-align: right;\">\n",
       "      <th></th>\n",
       "      <th>gender</th>\n",
       "      <th>age</th>\n",
       "      <th>occupation</th>\n",
       "      <th>sleep_duration</th>\n",
       "      <th>quality_of_sleep</th>\n",
       "      <th>physical_activity_level</th>\n",
       "      <th>stress_level</th>\n",
       "      <th>bmi_category</th>\n",
       "      <th>heart_rate</th>\n",
       "      <th>daily_steps</th>\n",
       "      <th>systolic</th>\n",
       "      <th>diastolic</th>\n",
       "      <th>sleep_disorder</th>\n",
       "    </tr>\n",
       "  </thead>\n",
       "  <tbody>\n",
       "    <tr>\n",
       "      <th>count</th>\n",
       "      <td>374.000000</td>\n",
       "      <td>374.000000</td>\n",
       "      <td>374.000000</td>\n",
       "      <td>374.000000</td>\n",
       "      <td>374.000000</td>\n",
       "      <td>374.000000</td>\n",
       "      <td>374.000000</td>\n",
       "      <td>374.000000</td>\n",
       "      <td>374.000000</td>\n",
       "      <td>374.000000</td>\n",
       "      <td>374.000000</td>\n",
       "      <td>374.000000</td>\n",
       "      <td>374.000000</td>\n",
       "    </tr>\n",
       "    <tr>\n",
       "      <th>mean</th>\n",
       "      <td>0.505348</td>\n",
       "      <td>42.184492</td>\n",
       "      <td>3.772727</td>\n",
       "      <td>7.132086</td>\n",
       "      <td>7.312834</td>\n",
       "      <td>59.171123</td>\n",
       "      <td>5.385027</td>\n",
       "      <td>1.296791</td>\n",
       "      <td>70.165775</td>\n",
       "      <td>6816.844920</td>\n",
       "      <td>128.553476</td>\n",
       "      <td>84.649733</td>\n",
       "      <td>1.002674</td>\n",
       "    </tr>\n",
       "    <tr>\n",
       "      <th>std</th>\n",
       "      <td>0.500641</td>\n",
       "      <td>8.673133</td>\n",
       "      <td>3.056081</td>\n",
       "      <td>0.795657</td>\n",
       "      <td>1.196956</td>\n",
       "      <td>20.830804</td>\n",
       "      <td>1.774526</td>\n",
       "      <td>1.431226</td>\n",
       "      <td>4.135676</td>\n",
       "      <td>1617.915679</td>\n",
       "      <td>7.748118</td>\n",
       "      <td>6.161611</td>\n",
       "      <td>0.644626</td>\n",
       "    </tr>\n",
       "    <tr>\n",
       "      <th>min</th>\n",
       "      <td>0.000000</td>\n",
       "      <td>27.000000</td>\n",
       "      <td>0.000000</td>\n",
       "      <td>5.800000</td>\n",
       "      <td>4.000000</td>\n",
       "      <td>30.000000</td>\n",
       "      <td>3.000000</td>\n",
       "      <td>0.000000</td>\n",
       "      <td>65.000000</td>\n",
       "      <td>3000.000000</td>\n",
       "      <td>115.000000</td>\n",
       "      <td>75.000000</td>\n",
       "      <td>0.000000</td>\n",
       "    </tr>\n",
       "    <tr>\n",
       "      <th>25%</th>\n",
       "      <td>0.000000</td>\n",
       "      <td>35.250000</td>\n",
       "      <td>1.000000</td>\n",
       "      <td>6.400000</td>\n",
       "      <td>6.000000</td>\n",
       "      <td>45.000000</td>\n",
       "      <td>4.000000</td>\n",
       "      <td>0.000000</td>\n",
       "      <td>68.000000</td>\n",
       "      <td>5600.000000</td>\n",
       "      <td>125.000000</td>\n",
       "      <td>80.000000</td>\n",
       "      <td>1.000000</td>\n",
       "    </tr>\n",
       "    <tr>\n",
       "      <th>50%</th>\n",
       "      <td>1.000000</td>\n",
       "      <td>43.000000</td>\n",
       "      <td>3.000000</td>\n",
       "      <td>7.200000</td>\n",
       "      <td>7.000000</td>\n",
       "      <td>60.000000</td>\n",
       "      <td>5.000000</td>\n",
       "      <td>0.000000</td>\n",
       "      <td>70.000000</td>\n",
       "      <td>7000.000000</td>\n",
       "      <td>130.000000</td>\n",
       "      <td>85.000000</td>\n",
       "      <td>1.000000</td>\n",
       "    </tr>\n",
       "    <tr>\n",
       "      <th>75%</th>\n",
       "      <td>1.000000</td>\n",
       "      <td>50.000000</td>\n",
       "      <td>5.000000</td>\n",
       "      <td>7.800000</td>\n",
       "      <td>8.000000</td>\n",
       "      <td>75.000000</td>\n",
       "      <td>7.000000</td>\n",
       "      <td>3.000000</td>\n",
       "      <td>72.000000</td>\n",
       "      <td>8000.000000</td>\n",
       "      <td>135.000000</td>\n",
       "      <td>90.000000</td>\n",
       "      <td>1.000000</td>\n",
       "    </tr>\n",
       "    <tr>\n",
       "      <th>max</th>\n",
       "      <td>1.000000</td>\n",
       "      <td>59.000000</td>\n",
       "      <td>10.000000</td>\n",
       "      <td>8.500000</td>\n",
       "      <td>9.000000</td>\n",
       "      <td>90.000000</td>\n",
       "      <td>8.000000</td>\n",
       "      <td>3.000000</td>\n",
       "      <td>86.000000</td>\n",
       "      <td>10000.000000</td>\n",
       "      <td>142.000000</td>\n",
       "      <td>95.000000</td>\n",
       "      <td>2.000000</td>\n",
       "    </tr>\n",
       "  </tbody>\n",
       "</table>\n",
       "</div>"
      ],
      "text/plain": [
       "           gender         age  occupation  sleep_duration  quality_of_sleep  \\\n",
       "count  374.000000  374.000000  374.000000      374.000000        374.000000   \n",
       "mean     0.505348   42.184492    3.772727        7.132086          7.312834   \n",
       "std      0.500641    8.673133    3.056081        0.795657          1.196956   \n",
       "min      0.000000   27.000000    0.000000        5.800000          4.000000   \n",
       "25%      0.000000   35.250000    1.000000        6.400000          6.000000   \n",
       "50%      1.000000   43.000000    3.000000        7.200000          7.000000   \n",
       "75%      1.000000   50.000000    5.000000        7.800000          8.000000   \n",
       "max      1.000000   59.000000   10.000000        8.500000          9.000000   \n",
       "\n",
       "       physical_activity_level  stress_level  bmi_category  heart_rate  \\\n",
       "count               374.000000    374.000000    374.000000  374.000000   \n",
       "mean                 59.171123      5.385027      1.296791   70.165775   \n",
       "std                  20.830804      1.774526      1.431226    4.135676   \n",
       "min                  30.000000      3.000000      0.000000   65.000000   \n",
       "25%                  45.000000      4.000000      0.000000   68.000000   \n",
       "50%                  60.000000      5.000000      0.000000   70.000000   \n",
       "75%                  75.000000      7.000000      3.000000   72.000000   \n",
       "max                  90.000000      8.000000      3.000000   86.000000   \n",
       "\n",
       "        daily_steps    systolic   diastolic  sleep_disorder  \n",
       "count    374.000000  374.000000  374.000000      374.000000  \n",
       "mean    6816.844920  128.553476   84.649733        1.002674  \n",
       "std     1617.915679    7.748118    6.161611        0.644626  \n",
       "min     3000.000000  115.000000   75.000000        0.000000  \n",
       "25%     5600.000000  125.000000   80.000000        1.000000  \n",
       "50%     7000.000000  130.000000   85.000000        1.000000  \n",
       "75%     8000.000000  135.000000   90.000000        1.000000  \n",
       "max    10000.000000  142.000000   95.000000        2.000000  "
      ]
     },
     "execution_count": 38,
     "metadata": {},
     "output_type": "execute_result"
    }
   ],
   "source": [
    "df.describe()"
   ]
  },
  {
   "cell_type": "code",
   "execution_count": null,
   "id": "714e5df0-68e8-43a7-a934-48b6a1fcafec",
   "metadata": {},
   "outputs": [],
   "source": []
  },
  {
   "cell_type": "markdown",
   "id": "82095cb9-2b86-4247-8b5a-d588d571b17d",
   "metadata": {},
   "source": [
    "EDA"
   ]
  },
  {
   "cell_type": "markdown",
   "id": "f721525b-1bbb-489a-b626-12b3fa2109ee",
   "metadata": {},
   "source": [
    "Average Sleep Duration"
   ]
  },
  {
   "cell_type": "code",
   "execution_count": 39,
   "id": "487549ae-169f-4a7a-931a-767a461b0dbd",
   "metadata": {},
   "outputs": [
    {
     "data": {
      "text/plain": [
       "7.132085561497325"
      ]
     },
     "execution_count": 39,
     "metadata": {},
     "output_type": "execute_result"
    }
   ],
   "source": [
    "df.sleep_duration.mean()"
   ]
  },
  {
   "cell_type": "markdown",
   "id": "15aaa979-ff16-4dd5-a6be-6268c7194bd1",
   "metadata": {},
   "source": [
    "Sleep duration by gender, age, or occupation"
   ]
  },
  {
   "cell_type": "code",
   "execution_count": 40,
   "id": "af76e887-2686-428d-b49f-fda5294ef245",
   "metadata": {},
   "outputs": [
    {
     "data": {
      "text/plain": [
       "gender\n",
       "0    7.229730\n",
       "1    7.036508\n",
       "Name: sleep_duration, dtype: float64"
      ]
     },
     "execution_count": 40,
     "metadata": {},
     "output_type": "execute_result"
    }
   ],
   "source": [
    "df.groupby('gender').sleep_duration.mean()"
   ]
  },
  {
   "cell_type": "code",
   "execution_count": 41,
   "id": "a727f825-d7c8-4f46-b737-69b50aa57908",
   "metadata": {},
   "outputs": [
    {
     "data": {
      "text/plain": [
       "age\n",
       "27    6.100000\n",
       "28    6.020000\n",
       "29    6.669231\n",
       "30    7.569231\n",
       "31    7.444444\n",
       "32    6.588235\n",
       "33    6.061538\n",
       "34    5.800000\n",
       "35    7.216667\n",
       "36    7.066667\n",
       "37    7.250000\n",
       "38    7.185000\n",
       "39    7.240000\n",
       "40    7.550000\n",
       "41    7.533333\n",
       "42    7.433333\n",
       "43    7.150000\n",
       "44    6.440000\n",
       "45    6.621429\n",
       "48    6.833333\n",
       "49    6.490909\n",
       "50    6.155000\n",
       "51    7.412500\n",
       "52    7.177778\n",
       "53    8.423529\n",
       "54    8.414286\n",
       "55    8.100000\n",
       "56    8.200000\n",
       "57    8.155556\n",
       "58    8.000000\n",
       "59    8.093750\n",
       "Name: sleep_duration, dtype: float64"
      ]
     },
     "execution_count": 41,
     "metadata": {},
     "output_type": "execute_result"
    }
   ],
   "source": [
    "df.groupby('age').sleep_duration.mean()"
   ]
  },
  {
   "cell_type": "code",
   "execution_count": 42,
   "id": "9e208595-7152-43ef-8f89-a1630a91e3e7",
   "metadata": {},
   "outputs": [],
   "source": [
    "import seaborn as sns"
   ]
  },
  {
   "cell_type": "code",
   "execution_count": 43,
   "id": "4bea18d3-522f-4766-b56b-0bd8d218a2ad",
   "metadata": {},
   "outputs": [],
   "source": [
    "import matplotlib.pyplot as plt\n",
    "%matplotlib inline"
   ]
  },
  {
   "cell_type": "code",
   "execution_count": 44,
   "id": "1a021ab5-e731-4dca-89fb-1e9fb0d76d47",
   "metadata": {},
   "outputs": [
    {
     "data": {
      "image/png": "[encoded data removed]",
      "text/plain": [
       "<Figure size 1000x600 with 1 Axes>"
      ]
     },
     "metadata": {},
     "output_type": "display_data"
    }
   ],
   "source": [
    "plt.figure(figsize=(10, 6))\n",
    "sns.barplot(df, x='sleep_duration', y='age', hue='sleep_duration');"
   ]
  },
  {
   "cell_type": "markdown",
   "id": "985bc08d-220f-4771-82fe-d53e58b043c1",
   "metadata": {},
   "source": [
    "The distribution of sleep quality ratings"
   ]
  },
  {
   "cell_type": "code",
   "execution_count": 45,
   "id": "56c06793-044e-462b-a1c6-2e1a8dc1c1bc",
   "metadata": {},
   "outputs": [
    {
     "data": {
      "image/png": "[encoded data removed]",
      "text/plain": [
       "<Figure size 640x480 with 1 Axes>"
      ]
     },
     "metadata": {},
     "output_type": "display_data"
    }
   ],
   "source": [
    "sns.kdeplot(df.quality_of_sleep, fill=True);"
   ]
  },
  {
   "cell_type": "markdown",
   "id": "78a1d309-fe4c-4b3f-beef-3bc0a3b92f97",
   "metadata": {},
   "source": [
    "Correlation between Sleep Quality and Stress Level"
   ]
  },
  {
   "cell_type": "code",
   "execution_count": 46,
   "id": "84d6e809-2b09-4b51-8cc2-81709022e441",
   "metadata": {},
   "outputs": [
    {
     "data": {
      "text/html": [
       "<div>\n",
       "<style scoped>\n",
       "    .dataframe tbody tr th:only-of-type {\n",
       "        vertical-align: middle;\n",
       "    }\n",
       "\n",
       "    .dataframe tbody tr th {\n",
       "        vertical-align: top;\n",
       "    }\n",
       "\n",
       "    .dataframe thead th {\n",
       "        text-align: right;\n",
       "    }\n",
       "</style>\n",
       "<table border=\"1\" class=\"dataframe\">\n",
       "  <thead>\n",
       "    <tr style=\"text-align: right;\">\n",
       "      <th></th>\n",
       "      <th>stress_level</th>\n",
       "      <th>quality_of_sleep</th>\n",
       "    </tr>\n",
       "  </thead>\n",
       "  <tbody>\n",
       "    <tr>\n",
       "      <th>stress_level</th>\n",
       "      <td>1.000000</td>\n",
       "      <td>-0.898752</td>\n",
       "    </tr>\n",
       "    <tr>\n",
       "      <th>quality_of_sleep</th>\n",
       "      <td>-0.898752</td>\n",
       "      <td>1.000000</td>\n",
       "    </tr>\n",
       "  </tbody>\n",
       "</table>\n",
       "</div>"
      ],
      "text/plain": [
       "                  stress_level  quality_of_sleep\n",
       "stress_level          1.000000         -0.898752\n",
       "quality_of_sleep     -0.898752          1.000000"
      ]
     },
     "execution_count": 46,
     "metadata": {},
     "output_type": "execute_result"
    }
   ],
   "source": [
    "df[['stress_level', 'quality_of_sleep']].corr()"
   ]
  },
  {
   "cell_type": "code",
   "execution_count": 47,
   "id": "0b1657a2-b541-4b89-b638-a4f18d127f98",
   "metadata": {},
   "outputs": [
    {
     "data": {
      "text/plain": [
       "Index(['gender', 'age', 'occupation', 'sleep_duration', 'quality_of_sleep',\n",
       "       'physical_activity_level', 'stress_level', 'bmi_category', 'heart_rate',\n",
       "       'daily_steps', 'systolic', 'diastolic', 'sleep_disorder'],\n",
       "      dtype='object')"
      ]
     },
     "execution_count": 47,
     "metadata": {},
     "output_type": "execute_result"
    }
   ],
   "source": [
    "df.columns"
   ]
  },
  {
   "cell_type": "code",
   "execution_count": 48,
   "id": "9ad729d7-cd57-44f9-85f1-278c1c9bb2a7",
   "metadata": {},
   "outputs": [
    {
     "data": {
      "text/html": [
       "<div>\n",
       "<style scoped>\n",
       "    .dataframe tbody tr th:only-of-type {\n",
       "        vertical-align: middle;\n",
       "    }\n",
       "\n",
       "    .dataframe tbody tr th {\n",
       "        vertical-align: top;\n",
       "    }\n",
       "\n",
       "    .dataframe thead th {\n",
       "        text-align: right;\n",
       "    }\n",
       "</style>\n",
       "<table border=\"1\" class=\"dataframe\">\n",
       "  <thead>\n",
       "    <tr style=\"text-align: right;\">\n",
       "      <th></th>\n",
       "      <th>physical_activity_level</th>\n",
       "      <th>sleep_duration</th>\n",
       "      <th>quality_of_sleep</th>\n",
       "    </tr>\n",
       "  </thead>\n",
       "  <tbody>\n",
       "    <tr>\n",
       "      <th>physical_activity_level</th>\n",
       "      <td>1.000000</td>\n",
       "      <td>0.212360</td>\n",
       "      <td>0.192896</td>\n",
       "    </tr>\n",
       "    <tr>\n",
       "      <th>sleep_duration</th>\n",
       "      <td>0.212360</td>\n",
       "      <td>1.000000</td>\n",
       "      <td>0.883213</td>\n",
       "    </tr>\n",
       "    <tr>\n",
       "      <th>quality_of_sleep</th>\n",
       "      <td>0.192896</td>\n",
       "      <td>0.883213</td>\n",
       "      <td>1.000000</td>\n",
       "    </tr>\n",
       "  </tbody>\n",
       "</table>\n",
       "</div>"
      ],
      "text/plain": [
       "                         physical_activity_level  sleep_duration  \\\n",
       "physical_activity_level                 1.000000        0.212360   \n",
       "sleep_duration                          0.212360        1.000000   \n",
       "quality_of_sleep                        0.192896        0.883213   \n",
       "\n",
       "                         quality_of_sleep  \n",
       "physical_activity_level          0.192896  \n",
       "sleep_duration                   0.883213  \n",
       "quality_of_sleep                 1.000000  "
      ]
     },
     "execution_count": 48,
     "metadata": {},
     "output_type": "execute_result"
    }
   ],
   "source": [
    "df[['physical_activity_level', 'sleep_duration', 'quality_of_sleep']].corr()"
   ]
  },
  {
   "cell_type": "code",
   "execution_count": 49,
   "id": "84a0a890-6480-4070-b5c0-419f1d85aa3e",
   "metadata": {},
   "outputs": [
    {
     "data": {
      "text/plain": [
       "0      9\n",
       "1      1\n",
       "2      1\n",
       "3      6\n",
       "4      6\n",
       "      ..\n",
       "369    5\n",
       "370    5\n",
       "371    5\n",
       "372    5\n",
       "373    5\n",
       "Name: occupation, Length: 374, dtype: int8"
      ]
     },
     "execution_count": 49,
     "metadata": {},
     "output_type": "execute_result"
    }
   ],
   "source": [
    "df.occupation"
   ]
  },
  {
   "cell_type": "code",
   "execution_count": 50,
   "id": "a41a4826-4519-4d42-95e4-5c36d39096f6",
   "metadata": {},
   "outputs": [],
   "source": [
    "dfx = pd.read_csv('Sleep_health_and_lifestyle_dataset.csv')"
   ]
  },
  {
   "cell_type": "code",
   "execution_count": 51,
   "id": "29f7b29a-b067-4667-ba90-35b6d3159428",
   "metadata": {},
   "outputs": [
    {
     "data": {
      "text/plain": [
       "{'Accountant',\n",
       " 'Doctor',\n",
       " 'Engineer',\n",
       " 'Lawyer',\n",
       " 'Manager',\n",
       " 'Nurse',\n",
       " 'Sales Representative',\n",
       " 'Salesperson',\n",
       " 'Scientist',\n",
       " 'Software Engineer',\n",
       " 'Teacher'}"
      ]
     },
     "execution_count": 51,
     "metadata": {},
     "output_type": "execute_result"
    }
   ],
   "source": [
    "set(dfx.Occupation.unique())"
   ]
  },
  {
   "cell_type": "code",
   "execution_count": 52,
   "id": "d365e486-6d06-49f5-95d9-dd56cb4b9b9d",
   "metadata": {},
   "outputs": [
    {
     "data": {
      "text/plain": [
       "0      9\n",
       "1      1\n",
       "2      1\n",
       "3      6\n",
       "4      6\n",
       "      ..\n",
       "369    5\n",
       "370    5\n",
       "371    5\n",
       "372    5\n",
       "373    5\n",
       "Name: occupation, Length: 374, dtype: int8"
      ]
     },
     "execution_count": 52,
     "metadata": {},
     "output_type": "execute_result"
    }
   ],
   "source": [
    "df.occupation"
   ]
  },
  {
   "cell_type": "code",
   "execution_count": 53,
   "id": "89599611-5f50-489a-98ea-c6320d8dbe2a",
   "metadata": {},
   "outputs": [],
   "source": [
    "avgqltperoccup = df.groupby('occupation').quality_of_sleep.mean()"
   ]
  },
  {
   "cell_type": "code",
   "execution_count": 54,
   "id": "13d4d002-e7ff-4bac-8018-935ea6425207",
   "metadata": {},
   "outputs": [],
   "source": [
    "avgqltperoccup = avgqltperoccup.sort_values(ascending=True)"
   ]
  },
  {
   "cell_type": "code",
   "execution_count": 55,
   "id": "a14a0772-450e-42cf-821e-feca85555030",
   "metadata": {},
   "outputs": [
    {
     "data": {
      "text/plain": [
       "occupation\n",
       "6     4.000000\n",
       "8     5.000000\n",
       "7     6.000000\n",
       "9     6.500000\n",
       "1     6.647887\n",
       "10    6.975000\n",
       "4     7.000000\n",
       "5     7.369863\n",
       "0     7.891892\n",
       "3     7.893617\n",
       "2     8.412698\n",
       "Name: quality_of_sleep, dtype: float64"
      ]
     },
     "execution_count": 55,
     "metadata": {},
     "output_type": "execute_result"
    }
   ],
   "source": [
    "avgqltperoccup"
   ]
  },
  {
   "cell_type": "code",
   "execution_count": 56,
   "id": "1b33be42-60a1-47c8-a9e1-e866b500bc69",
   "metadata": {},
   "outputs": [
    {
     "data": {
      "image/png": "[encoded data removed]",
      "text/plain": [
       "<Figure size 640x480 with 1 Axes>"
      ]
     },
     "metadata": {},
     "output_type": "display_data"
    }
   ],
   "source": [
    "sns.barplot(x=avgqltperoccup.index, y=avgqltperoccup);"
   ]
  },
  {
   "cell_type": "code",
   "execution_count": 57,
   "id": "64be8e92-428a-4e4b-b964-e5bbe110400a",
   "metadata": {
    "scrolled": true
   },
   "outputs": [
    {
     "data": {
      "text/html": [
       "<div>\n",
       "<style scoped>\n",
       "    .dataframe tbody tr th:only-of-type {\n",
       "        vertical-align: middle;\n",
       "    }\n",
       "\n",
       "    .dataframe tbody tr th {\n",
       "        vertical-align: top;\n",
       "    }\n",
       "\n",
       "    .dataframe thead th {\n",
       "        text-align: right;\n",
       "    }\n",
       "</style>\n",
       "<table border=\"1\" class=\"dataframe\">\n",
       "  <thead>\n",
       "    <tr style=\"text-align: right;\">\n",
       "      <th></th>\n",
       "      <th>gender</th>\n",
       "      <th>age</th>\n",
       "      <th>occupation</th>\n",
       "      <th>sleep_duration</th>\n",
       "      <th>quality_of_sleep</th>\n",
       "      <th>physical_activity_level</th>\n",
       "      <th>stress_level</th>\n",
       "      <th>bmi_category</th>\n",
       "      <th>heart_rate</th>\n",
       "      <th>daily_steps</th>\n",
       "      <th>systolic</th>\n",
       "      <th>diastolic</th>\n",
       "      <th>sleep_disorder</th>\n",
       "    </tr>\n",
       "  </thead>\n",
       "  <tbody>\n",
       "    <tr>\n",
       "      <th>0</th>\n",
       "      <td>1</td>\n",
       "      <td>27</td>\n",
       "      <td>9</td>\n",
       "      <td>6.1</td>\n",
       "      <td>6</td>\n",
       "      <td>42</td>\n",
       "      <td>6</td>\n",
       "      <td>3</td>\n",
       "      <td>77</td>\n",
       "      <td>4200</td>\n",
       "      <td>126</td>\n",
       "      <td>83</td>\n",
       "      <td>1</td>\n",
       "    </tr>\n",
       "    <tr>\n",
       "      <th>1</th>\n",
       "      <td>1</td>\n",
       "      <td>28</td>\n",
       "      <td>1</td>\n",
       "      <td>6.2</td>\n",
       "      <td>6</td>\n",
       "      <td>60</td>\n",
       "      <td>8</td>\n",
       "      <td>0</td>\n",
       "      <td>75</td>\n",
       "      <td>10000</td>\n",
       "      <td>125</td>\n",
       "      <td>80</td>\n",
       "      <td>1</td>\n",
       "    </tr>\n",
       "    <tr>\n",
       "      <th>2</th>\n",
       "      <td>1</td>\n",
       "      <td>28</td>\n",
       "      <td>1</td>\n",
       "      <td>6.2</td>\n",
       "      <td>6</td>\n",
       "      <td>60</td>\n",
       "      <td>8</td>\n",
       "      <td>0</td>\n",
       "      <td>75</td>\n",
       "      <td>10000</td>\n",
       "      <td>125</td>\n",
       "      <td>80</td>\n",
       "      <td>1</td>\n",
       "    </tr>\n",
       "    <tr>\n",
       "      <th>3</th>\n",
       "      <td>1</td>\n",
       "      <td>28</td>\n",
       "      <td>6</td>\n",
       "      <td>5.9</td>\n",
       "      <td>4</td>\n",
       "      <td>30</td>\n",
       "      <td>8</td>\n",
       "      <td>2</td>\n",
       "      <td>85</td>\n",
       "      <td>3000</td>\n",
       "      <td>140</td>\n",
       "      <td>90</td>\n",
       "      <td>2</td>\n",
       "    </tr>\n",
       "    <tr>\n",
       "      <th>4</th>\n",
       "      <td>1</td>\n",
       "      <td>28</td>\n",
       "      <td>6</td>\n",
       "      <td>5.9</td>\n",
       "      <td>4</td>\n",
       "      <td>30</td>\n",
       "      <td>8</td>\n",
       "      <td>2</td>\n",
       "      <td>85</td>\n",
       "      <td>3000</td>\n",
       "      <td>140</td>\n",
       "      <td>90</td>\n",
       "      <td>2</td>\n",
       "    </tr>\n",
       "    <tr>\n",
       "      <th>...</th>\n",
       "      <td>...</td>\n",
       "      <td>...</td>\n",
       "      <td>...</td>\n",
       "      <td>...</td>\n",
       "      <td>...</td>\n",
       "      <td>...</td>\n",
       "      <td>...</td>\n",
       "      <td>...</td>\n",
       "      <td>...</td>\n",
       "      <td>...</td>\n",
       "      <td>...</td>\n",
       "      <td>...</td>\n",
       "      <td>...</td>\n",
       "    </tr>\n",
       "    <tr>\n",
       "      <th>369</th>\n",
       "      <td>0</td>\n",
       "      <td>59</td>\n",
       "      <td>5</td>\n",
       "      <td>8.1</td>\n",
       "      <td>9</td>\n",
       "      <td>75</td>\n",
       "      <td>3</td>\n",
       "      <td>3</td>\n",
       "      <td>68</td>\n",
       "      <td>7000</td>\n",
       "      <td>140</td>\n",
       "      <td>95</td>\n",
       "      <td>2</td>\n",
       "    </tr>\n",
       "    <tr>\n",
       "      <th>370</th>\n",
       "      <td>0</td>\n",
       "      <td>59</td>\n",
       "      <td>5</td>\n",
       "      <td>8.0</td>\n",
       "      <td>9</td>\n",
       "      <td>75</td>\n",
       "      <td>3</td>\n",
       "      <td>3</td>\n",
       "      <td>68</td>\n",
       "      <td>7000</td>\n",
       "      <td>140</td>\n",
       "      <td>95</td>\n",
       "      <td>2</td>\n",
       "    </tr>\n",
       "    <tr>\n",
       "      <th>371</th>\n",
       "      <td>0</td>\n",
       "      <td>59</td>\n",
       "      <td>5</td>\n",
       "      <td>8.1</td>\n",
       "      <td>9</td>\n",
       "      <td>75</td>\n",
       "      <td>3</td>\n",
       "      <td>3</td>\n",
       "      <td>68</td>\n",
       "      <td>7000</td>\n",
       "      <td>140</td>\n",
       "      <td>95</td>\n",
       "      <td>2</td>\n",
       "    </tr>\n",
       "    <tr>\n",
       "      <th>372</th>\n",
       "      <td>0</td>\n",
       "      <td>59</td>\n",
       "      <td>5</td>\n",
       "      <td>8.1</td>\n",
       "      <td>9</td>\n",
       "      <td>75</td>\n",
       "      <td>3</td>\n",
       "      <td>3</td>\n",
       "      <td>68</td>\n",
       "      <td>7000</td>\n",
       "      <td>140</td>\n",
       "      <td>95</td>\n",
       "      <td>2</td>\n",
       "    </tr>\n",
       "    <tr>\n",
       "      <th>373</th>\n",
       "      <td>0</td>\n",
       "      <td>59</td>\n",
       "      <td>5</td>\n",
       "      <td>8.1</td>\n",
       "      <td>9</td>\n",
       "      <td>75</td>\n",
       "      <td>3</td>\n",
       "      <td>3</td>\n",
       "      <td>68</td>\n",
       "      <td>7000</td>\n",
       "      <td>140</td>\n",
       "      <td>95</td>\n",
       "      <td>2</td>\n",
       "    </tr>\n",
       "  </tbody>\n",
       "</table>\n",
       "<p>374 rows × 13 columns</p>\n",
       "</div>"
      ],
      "text/plain": [
       "     gender  age  occupation  sleep_duration  quality_of_sleep  \\\n",
       "0         1   27           9             6.1                 6   \n",
       "1         1   28           1             6.2                 6   \n",
       "2         1   28           1             6.2                 6   \n",
       "3         1   28           6             5.9                 4   \n",
       "4         1   28           6             5.9                 4   \n",
       "..      ...  ...         ...             ...               ...   \n",
       "369       0   59           5             8.1                 9   \n",
       "370       0   59           5             8.0                 9   \n",
       "371       0   59           5             8.1                 9   \n",
       "372       0   59           5             8.1                 9   \n",
       "373       0   59           5             8.1                 9   \n",
       "\n",
       "     physical_activity_level  stress_level  bmi_category  heart_rate  \\\n",
       "0                         42             6             3          77   \n",
       "1                         60             8             0          75   \n",
       "2                         60             8             0          75   \n",
       "3                         30             8             2          85   \n",
       "4                         30             8             2          85   \n",
       "..                       ...           ...           ...         ...   \n",
       "369                       75             3             3          68   \n",
       "370                       75             3             3          68   \n",
       "371                       75             3             3          68   \n",
       "372                       75             3             3          68   \n",
       "373                       75             3             3          68   \n",
       "\n",
       "     daily_steps  systolic  diastolic  sleep_disorder  \n",
       "0           4200       126         83               1  \n",
       "1          10000       125         80               1  \n",
       "2          10000       125         80               1  \n",
       "3           3000       140         90               2  \n",
       "4           3000       140         90               2  \n",
       "..           ...       ...        ...             ...  \n",
       "369         7000       140         95               2  \n",
       "370         7000       140         95               2  \n",
       "371         7000       140         95               2  \n",
       "372         7000       140         95               2  \n",
       "373         7000       140         95               2  \n",
       "\n",
       "[374 rows x 13 columns]"
      ]
     },
     "execution_count": 57,
     "metadata": {},
     "output_type": "execute_result"
    }
   ],
   "source": [
    "df"
   ]
  },
  {
   "cell_type": "markdown",
   "id": "6675a492-b73c-4aa9-a821-be1d8f56a9a4",
   "metadata": {},
   "source": [
    "Is there a relationship between BMI category and sleep duration?"
   ]
  },
  {
   "cell_type": "code",
   "execution_count": 58,
   "id": "1e3a763b-1f0f-4269-9570-d8c5536fcda8",
   "metadata": {},
   "outputs": [
    {
     "data": {
      "text/html": [
       "<div>\n",
       "<style scoped>\n",
       "    .dataframe tbody tr th:only-of-type {\n",
       "        vertical-align: middle;\n",
       "    }\n",
       "\n",
       "    .dataframe tbody tr th {\n",
       "        vertical-align: top;\n",
       "    }\n",
       "\n",
       "    .dataframe thead th {\n",
       "        text-align: right;\n",
       "    }\n",
       "</style>\n",
       "<table border=\"1\" class=\"dataframe\">\n",
       "  <thead>\n",
       "    <tr style=\"text-align: right;\">\n",
       "      <th></th>\n",
       "      <th>bmi_category</th>\n",
       "      <th>sleep_duration</th>\n",
       "      <th>sleep_disorder</th>\n",
       "    </tr>\n",
       "  </thead>\n",
       "  <tbody>\n",
       "    <tr>\n",
       "      <th>bmi_category</th>\n",
       "      <td>1.000000</td>\n",
       "      <td>-0.376358</td>\n",
       "      <td>0.016573</td>\n",
       "    </tr>\n",
       "    <tr>\n",
       "      <th>sleep_duration</th>\n",
       "      <td>-0.376358</td>\n",
       "      <td>1.000000</td>\n",
       "      <td>0.177552</td>\n",
       "    </tr>\n",
       "    <tr>\n",
       "      <th>sleep_disorder</th>\n",
       "      <td>0.016573</td>\n",
       "      <td>0.177552</td>\n",
       "      <td>1.000000</td>\n",
       "    </tr>\n",
       "  </tbody>\n",
       "</table>\n",
       "</div>"
      ],
      "text/plain": [
       "                bmi_category  sleep_duration  sleep_disorder\n",
       "bmi_category        1.000000       -0.376358        0.016573\n",
       "sleep_duration     -0.376358        1.000000        0.177552\n",
       "sleep_disorder      0.016573        0.177552        1.000000"
      ]
     },
     "execution_count": 58,
     "metadata": {},
     "output_type": "execute_result"
    }
   ],
   "source": [
    "df[['bmi_category', 'sleep_duration', 'sleep_disorder']].corr()"
   ]
  },
  {
   "cell_type": "markdown",
   "id": "6d7d77bd-fb18-4b3a-94b9-d9da9106f699",
   "metadata": {},
   "source": [
    "Significant difference in sleep duration among individuals with and without sleep disorders?"
   ]
  },
  {
   "cell_type": "code",
   "execution_count": 62,
   "id": "4e703e34-2f7d-4a7a-a815-2335d50cf96e",
   "metadata": {},
   "outputs": [],
   "source": [
    "from scipy.stats import f_oneway"
   ]
  },
  {
   "cell_type": "code",
   "execution_count": 71,
   "id": "6d6352d7-b709-4f5a-b31d-2c95c4ba0823",
   "metadata": {},
   "outputs": [],
   "source": [
    "sdgroup1 = df[df['sleep_disorder'] == 0].sleep_duration\n",
    "sdgroup2 = df[df['sleep_disorder'] == 1].sleep_duration\n",
    "sdgroup3 = df[df['sleep_disorder'] == 2].sleep_duration"
   ]
  },
  {
   "cell_type": "code",
   "execution_count": 72,
   "id": "2e7be47f-3514-47b8-9c29-b5f6ff501877",
   "metadata": {
    "scrolled": true
   },
   "outputs": [],
   "source": [
    "f_stat, p_value = f_oneway(sdgroup1, sdgroup2, sdgroup3)"
   ]
  },
  {
   "cell_type": "code",
   "execution_count": 73,
   "id": "3ab1721e-03d8-4a33-8c79-dc9032af5021",
   "metadata": {},
   "outputs": [
    {
     "data": {
      "text/plain": [
       "31.913467623717107"
      ]
     },
     "execution_count": 73,
     "metadata": {},
     "output_type": "execute_result"
    }
   ],
   "source": [
    "f_stat"
   ]
  },
  {
   "cell_type": "code",
   "execution_count": 74,
   "id": "741bfa28-2656-4d49-be83-6f13d94c95b6",
   "metadata": {},
   "outputs": [
    {
     "data": {
      "text/plain": [
       "1.6261510712202572e-13"
      ]
     },
     "execution_count": 74,
     "metadata": {},
     "output_type": "execute_result"
    }
   ],
   "source": [
    "p_value"
   ]
  },
  {
   "cell_type": "code",
   "execution_count": 75,
   "id": "5ece2689-5b50-42ec-acdb-babd267a9295",
   "metadata": {},
   "outputs": [
    {
     "name": "stdout",
     "output_type": "stream",
     "text": [
      "There is a significant difference between the means of the groups' attributes.\n"
     ]
    }
   ],
   "source": [
    "alpha = 0.05\n",
    "if p_value < alpha:\n",
    "    print(\"There is a significant difference between the means of the groups' attributes.\")\n",
    "else:\n",
    "    print(\"There is no significant difference between the means of the groups' attributes.\")"
   ]
  },
  {
   "cell_type": "markdown",
   "id": "d0f138af-d938-4f08-96d7-1587d9dbbf52",
   "metadata": {},
   "source": [
    "Significant difference in stress levels among individuals with and without sleep disorders?"
   ]
  },
  {
   "cell_type": "code",
   "execution_count": 79,
   "id": "39905513-f50b-44e6-9847-5efa4e7f4010",
   "metadata": {},
   "outputs": [],
   "source": [
    "slgroup1 = df[df.sleep_disorder == 0].stress_level\n",
    "slgroup2 = df[df.sleep_disorder == 1].stress_level\n",
    "slgroup3 = df[df.sleep_disorder == 2].stress_level"
   ]
  },
  {
   "cell_type": "code",
   "execution_count": 80,
   "id": "a6c1d0ed-3fca-4e6c-8deb-0afc419b3850",
   "metadata": {},
   "outputs": [],
   "source": [
    "from scipy.stats import f_oneway"
   ]
  },
  {
   "cell_type": "code",
   "execution_count": 81,
   "id": "d5168579-32fa-4955-9f62-7c01087af277",
   "metadata": {},
   "outputs": [],
   "source": [
    "f_stats, p_value = f_oneway(slgroup1, slgroup2, slgroup3)"
   ]
  },
  {
   "cell_type": "code",
   "execution_count": 82,
   "id": "39a1cc2c-f578-49ce-a8f6-cd4a0b9ed404",
   "metadata": {},
   "outputs": [
    {
     "name": "stdout",
     "output_type": "stream",
     "text": [
      "No significant difference\n"
     ]
    }
   ],
   "source": [
    "alpha = 0.05\n",
    "if p_value < alpha:\n",
    "    print('No significant difference')\n",
    "else:\n",
    "    print('There is a significant difference')"
   ]
  },
  {
   "cell_type": "code",
   "execution_count": null,
   "id": "7fc14347-f9c8-42b0-bc69-c77b9c4fe437",
   "metadata": {},
   "outputs": [],
   "source": []
  }
 ],
 "metadata": {
  "kernelspec": {
   "display_name": "Python 3 (ipykernel)",
   "language": "python",
   "name": "python3"
  },
  "language_info": {
   "codemirror_mode": {
    "name": "ipython",
    "version": 3
   },
   "file_extension": ".py",
   "mimetype": "text/x-python",
   "name": "python",
   "nbconvert_exporter": "python",
   "pygments_lexer": "ipython3",
   "version": "3.9.7"
  }
 },
 "nbformat": 4,
 "nbformat_minor": 5
}
